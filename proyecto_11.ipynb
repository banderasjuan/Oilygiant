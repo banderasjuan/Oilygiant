{
 "cells": [
  {
   "cell_type": "markdown",
   "metadata": {},
   "source": [
    "# Descripción del Proyecto"
   ]
  },
  {
   "cell_type": "markdown",
   "metadata": {},
   "source": [
    "Trabajas en la compañía de extracción de petróleo OilyGiant. Tu tarea es encontrar los mejores lugares donde **abrir 200 pozos nuevos de petróleo**.\n",
    "\n",
    "Para completar esta tarea, tendrás que realizar los siguientes pasos:\n",
    "\n",
    "- Leer los archivos con los parámetros recogidos de pozos petrolíferos en la región seleccionada: calidad de crudo y volumen de reservas.\n",
    "- Crear un modelo para predecir el volumen de reservas en pozos nuevos.\n",
    "- Elegir los pozos petrolíferos que tienen los valores estimados más altos.\n",
    "- Elegir la región con el beneficio total más alto para los pozos petrolíferos seleccionados.\n",
    "\n",
    "Tienes datos sobre muestras de crudo de tres regiones. Ya se conocen los parámetros de cada pozo petrolero de la región. Crea un modelo que ayude a elegir la región con el mayor margen de beneficio. Analiza los beneficios y riesgos potenciales utilizando la técnica *bootstrapping*."
   ]
  },
  {
   "cell_type": "markdown",
   "metadata": {},
   "source": [
    "# Inicialización "
   ]
  },
  {
   "cell_type": "code",
   "execution_count": 1,
   "metadata": {},
   "outputs": [],
   "source": [
    "#carguemos las librerias que vamos a necesitar \n",
    "import pandas as pd\n",
    "import numpy as np \n",
    "from sklearn.linear_model import LinearRegression\n",
    "from sklearn.metrics import mean_squared_error\n",
    "from sklearn.preprocessing import StandardScaler\n",
    "from sklearn.model_selection import train_test_split\n",
    "from sklearn.metrics import confusion_matrix\n",
    "from matplotlib import pyplot as plt\n",
    "import seaborn as sns"
   ]
  },
  {
   "cell_type": "markdown",
   "metadata": {},
   "source": [
    "# Carga de datos "
   ]
  },
  {
   "cell_type": "code",
   "execution_count": 2,
   "metadata": {},
   "outputs": [],
   "source": [
    "#importemos las librerías con las que vamos a trabajar \n",
    "region_1 = pd.read_csv('./geo_data_0.csv')\n",
    "region_2 = pd.read_csv('./geo_data_1.csv')\n",
    "region_3 = pd.read_csv('./geo_data_2.csv')"
   ]
  },
  {
   "cell_type": "markdown",
   "metadata": {},
   "source": [
    "# Revisión de Datos"
   ]
  },
  {
   "cell_type": "markdown",
   "metadata": {},
   "source": [
    "### Empecemos con los datos de la Región 1"
   ]
  },
  {
   "cell_type": "code",
   "execution_count": 3,
   "metadata": {},
   "outputs": [
    {
     "data": {
      "text/html": [
       "<div>\n",
       "<style scoped>\n",
       "    .dataframe tbody tr th:only-of-type {\n",
       "        vertical-align: middle;\n",
       "    }\n",
       "\n",
       "    .dataframe tbody tr th {\n",
       "        vertical-align: top;\n",
       "    }\n",
       "\n",
       "    .dataframe thead th {\n",
       "        text-align: right;\n",
       "    }\n",
       "</style>\n",
       "<table border=\"1\" class=\"dataframe\">\n",
       "  <thead>\n",
       "    <tr style=\"text-align: right;\">\n",
       "      <th></th>\n",
       "      <th>id</th>\n",
       "      <th>f0</th>\n",
       "      <th>f1</th>\n",
       "      <th>f2</th>\n",
       "      <th>product</th>\n",
       "    </tr>\n",
       "  </thead>\n",
       "  <tbody>\n",
       "    <tr>\n",
       "      <th>65761</th>\n",
       "      <td>yYPkd</td>\n",
       "      <td>0.836576</td>\n",
       "      <td>-0.484228</td>\n",
       "      <td>2.156219</td>\n",
       "      <td>54.117461</td>\n",
       "    </tr>\n",
       "    <tr>\n",
       "      <th>9745</th>\n",
       "      <td>5ov0j</td>\n",
       "      <td>2.050254</td>\n",
       "      <td>0.444440</td>\n",
       "      <td>2.508991</td>\n",
       "      <td>79.764349</td>\n",
       "    </tr>\n",
       "    <tr>\n",
       "      <th>5430</th>\n",
       "      <td>vocfy</td>\n",
       "      <td>0.418677</td>\n",
       "      <td>0.881317</td>\n",
       "      <td>4.175317</td>\n",
       "      <td>124.560362</td>\n",
       "    </tr>\n",
       "    <tr>\n",
       "      <th>33234</th>\n",
       "      <td>vRifo</td>\n",
       "      <td>0.067791</td>\n",
       "      <td>0.039003</td>\n",
       "      <td>8.334713</td>\n",
       "      <td>172.992866</td>\n",
       "    </tr>\n",
       "    <tr>\n",
       "      <th>6474</th>\n",
       "      <td>IhZCy</td>\n",
       "      <td>1.866289</td>\n",
       "      <td>0.331278</td>\n",
       "      <td>0.015912</td>\n",
       "      <td>154.776051</td>\n",
       "    </tr>\n",
       "    <tr>\n",
       "      <th>88098</th>\n",
       "      <td>Kg3T1</td>\n",
       "      <td>-0.941081</td>\n",
       "      <td>0.370340</td>\n",
       "      <td>-1.537207</td>\n",
       "      <td>7.468789</td>\n",
       "    </tr>\n",
       "    <tr>\n",
       "      <th>7803</th>\n",
       "      <td>QuTil</td>\n",
       "      <td>-0.077822</td>\n",
       "      <td>1.080936</td>\n",
       "      <td>2.687598</td>\n",
       "      <td>106.152212</td>\n",
       "    </tr>\n",
       "    <tr>\n",
       "      <th>30162</th>\n",
       "      <td>4ROlA</td>\n",
       "      <td>0.275623</td>\n",
       "      <td>1.255452</td>\n",
       "      <td>7.583927</td>\n",
       "      <td>81.063672</td>\n",
       "    </tr>\n",
       "    <tr>\n",
       "      <th>78343</th>\n",
       "      <td>x3P5m</td>\n",
       "      <td>0.161109</td>\n",
       "      <td>-0.143798</td>\n",
       "      <td>0.546711</td>\n",
       "      <td>34.266062</td>\n",
       "    </tr>\n",
       "    <tr>\n",
       "      <th>11561</th>\n",
       "      <td>MhKi4</td>\n",
       "      <td>0.303441</td>\n",
       "      <td>-0.467141</td>\n",
       "      <td>0.885321</td>\n",
       "      <td>88.703565</td>\n",
       "    </tr>\n",
       "  </tbody>\n",
       "</table>\n",
       "</div>"
      ],
      "text/plain": [
       "          id        f0        f1        f2     product\n",
       "65761  yYPkd  0.836576 -0.484228  2.156219   54.117461\n",
       "9745   5ov0j  2.050254  0.444440  2.508991   79.764349\n",
       "5430   vocfy  0.418677  0.881317  4.175317  124.560362\n",
       "33234  vRifo  0.067791  0.039003  8.334713  172.992866\n",
       "6474   IhZCy  1.866289  0.331278  0.015912  154.776051\n",
       "88098  Kg3T1 -0.941081  0.370340 -1.537207    7.468789\n",
       "7803   QuTil -0.077822  1.080936  2.687598  106.152212\n",
       "30162  4ROlA  0.275623  1.255452  7.583927   81.063672\n",
       "78343  x3P5m  0.161109 -0.143798  0.546711   34.266062\n",
       "11561  MhKi4  0.303441 -0.467141  0.885321   88.703565"
      ]
     },
     "execution_count": 3,
     "metadata": {},
     "output_type": "execute_result"
    }
   ],
   "source": [
    "region_1.sample(10)"
   ]
  },
  {
   "cell_type": "code",
   "execution_count": 4,
   "metadata": {},
   "outputs": [
    {
     "name": "stdout",
     "output_type": "stream",
     "text": [
      "<class 'pandas.core.frame.DataFrame'>\n",
      "RangeIndex: 100000 entries, 0 to 99999\n",
      "Data columns (total 5 columns):\n",
      " #   Column   Non-Null Count   Dtype  \n",
      "---  ------   --------------   -----  \n",
      " 0   id       100000 non-null  object \n",
      " 1   f0       100000 non-null  float64\n",
      " 2   f1       100000 non-null  float64\n",
      " 3   f2       100000 non-null  float64\n",
      " 4   product  100000 non-null  float64\n",
      "dtypes: float64(4), object(1)\n",
      "memory usage: 3.8+ MB\n"
     ]
    }
   ],
   "source": [
    "region_1.info()"
   ]
  },
  {
   "cell_type": "markdown",
   "metadata": {},
   "source": [
    "Los tipos de datos son correctos y no parece haber valores ausentes"
   ]
  },
  {
   "cell_type": "code",
   "execution_count": 5,
   "metadata": {},
   "outputs": [
    {
     "data": {
      "text/html": [
       "<div>\n",
       "<style scoped>\n",
       "    .dataframe tbody tr th:only-of-type {\n",
       "        vertical-align: middle;\n",
       "    }\n",
       "\n",
       "    .dataframe tbody tr th {\n",
       "        vertical-align: top;\n",
       "    }\n",
       "\n",
       "    .dataframe thead th {\n",
       "        text-align: right;\n",
       "    }\n",
       "</style>\n",
       "<table border=\"1\" class=\"dataframe\">\n",
       "  <thead>\n",
       "    <tr style=\"text-align: right;\">\n",
       "      <th></th>\n",
       "      <th>f0</th>\n",
       "      <th>f1</th>\n",
       "      <th>f2</th>\n",
       "      <th>product</th>\n",
       "    </tr>\n",
       "  </thead>\n",
       "  <tbody>\n",
       "    <tr>\n",
       "      <th>count</th>\n",
       "      <td>100000.000000</td>\n",
       "      <td>100000.000000</td>\n",
       "      <td>100000.000000</td>\n",
       "      <td>100000.000000</td>\n",
       "    </tr>\n",
       "    <tr>\n",
       "      <th>mean</th>\n",
       "      <td>0.500419</td>\n",
       "      <td>0.250143</td>\n",
       "      <td>2.502647</td>\n",
       "      <td>92.500000</td>\n",
       "    </tr>\n",
       "    <tr>\n",
       "      <th>std</th>\n",
       "      <td>0.871832</td>\n",
       "      <td>0.504433</td>\n",
       "      <td>3.248248</td>\n",
       "      <td>44.288691</td>\n",
       "    </tr>\n",
       "    <tr>\n",
       "      <th>min</th>\n",
       "      <td>-1.408605</td>\n",
       "      <td>-0.848218</td>\n",
       "      <td>-12.088328</td>\n",
       "      <td>0.000000</td>\n",
       "    </tr>\n",
       "    <tr>\n",
       "      <th>25%</th>\n",
       "      <td>-0.072580</td>\n",
       "      <td>-0.200881</td>\n",
       "      <td>0.287748</td>\n",
       "      <td>56.497507</td>\n",
       "    </tr>\n",
       "    <tr>\n",
       "      <th>50%</th>\n",
       "      <td>0.502360</td>\n",
       "      <td>0.250252</td>\n",
       "      <td>2.515969</td>\n",
       "      <td>91.849972</td>\n",
       "    </tr>\n",
       "    <tr>\n",
       "      <th>75%</th>\n",
       "      <td>1.073581</td>\n",
       "      <td>0.700646</td>\n",
       "      <td>4.715088</td>\n",
       "      <td>128.564089</td>\n",
       "    </tr>\n",
       "    <tr>\n",
       "      <th>max</th>\n",
       "      <td>2.362331</td>\n",
       "      <td>1.343769</td>\n",
       "      <td>16.003790</td>\n",
       "      <td>185.364347</td>\n",
       "    </tr>\n",
       "  </tbody>\n",
       "</table>\n",
       "</div>"
      ],
      "text/plain": [
       "                  f0             f1             f2        product\n",
       "count  100000.000000  100000.000000  100000.000000  100000.000000\n",
       "mean        0.500419       0.250143       2.502647      92.500000\n",
       "std         0.871832       0.504433       3.248248      44.288691\n",
       "min        -1.408605      -0.848218     -12.088328       0.000000\n",
       "25%        -0.072580      -0.200881       0.287748      56.497507\n",
       "50%         0.502360       0.250252       2.515969      91.849972\n",
       "75%         1.073581       0.700646       4.715088     128.564089\n",
       "max         2.362331       1.343769      16.003790     185.364347"
      ]
     },
     "execution_count": 5,
     "metadata": {},
     "output_type": "execute_result"
    }
   ],
   "source": [
    "region_1.describe()"
   ]
  },
  {
   "cell_type": "code",
   "execution_count": 6,
   "metadata": {},
   "outputs": [
    {
     "data": {
      "text/plain": [
       "id         0\n",
       "f0         0\n",
       "f1         0\n",
       "f2         0\n",
       "product    0\n",
       "dtype: int64"
      ]
     },
     "execution_count": 6,
     "metadata": {},
     "output_type": "execute_result"
    }
   ],
   "source": [
    "region_1.isna().sum()"
   ]
  },
  {
   "cell_type": "code",
   "execution_count": 7,
   "metadata": {},
   "outputs": [
    {
     "name": "stdout",
     "output_type": "stream",
     "text": [
      "0\n"
     ]
    }
   ],
   "source": [
    "print(region_1.duplicated().sum())"
   ]
  },
  {
   "cell_type": "code",
   "execution_count": 8,
   "metadata": {},
   "outputs": [
    {
     "data": {
      "text/plain": [
       "product\n",
       "105.280062    1\n",
       "122.799517    1\n",
       "61.817308     1\n",
       "37.155071     1\n",
       "73.090084     1\n",
       "             ..\n",
       "154.694803    1\n",
       "79.818082     1\n",
       "138.609486    1\n",
       "62.540393     1\n",
       "149.633246    1\n",
       "Name: count, Length: 100000, dtype: int64"
      ]
     },
     "execution_count": 8,
     "metadata": {},
     "output_type": "execute_result"
    }
   ],
   "source": [
    "region_1['product'].value_counts()"
   ]
  },
  {
   "cell_type": "markdown",
   "metadata": {},
   "source": [
    "No observamos problemas de tipos de datos ni valores ausentes. Sin embargo si observamos valores en 0, hay que decidir como tratarlos, no sabemos si se trata de un error o si efectivamente el valor es 0 "
   ]
  },
  {
   "cell_type": "markdown",
   "metadata": {},
   "source": [
    "### Revisemos los datos de la Región 2"
   ]
  },
  {
   "cell_type": "code",
   "execution_count": 9,
   "metadata": {},
   "outputs": [
    {
     "name": "stdout",
     "output_type": "stream",
     "text": [
      "<class 'pandas.core.frame.DataFrame'>\n",
      "RangeIndex: 100000 entries, 0 to 99999\n",
      "Data columns (total 5 columns):\n",
      " #   Column   Non-Null Count   Dtype  \n",
      "---  ------   --------------   -----  \n",
      " 0   id       100000 non-null  object \n",
      " 1   f0       100000 non-null  float64\n",
      " 2   f1       100000 non-null  float64\n",
      " 3   f2       100000 non-null  float64\n",
      " 4   product  100000 non-null  float64\n",
      "dtypes: float64(4), object(1)\n",
      "memory usage: 3.8+ MB\n"
     ]
    }
   ],
   "source": [
    "region_2.info()"
   ]
  },
  {
   "cell_type": "code",
   "execution_count": 10,
   "metadata": {},
   "outputs": [
    {
     "data": {
      "text/html": [
       "<div>\n",
       "<style scoped>\n",
       "    .dataframe tbody tr th:only-of-type {\n",
       "        vertical-align: middle;\n",
       "    }\n",
       "\n",
       "    .dataframe tbody tr th {\n",
       "        vertical-align: top;\n",
       "    }\n",
       "\n",
       "    .dataframe thead th {\n",
       "        text-align: right;\n",
       "    }\n",
       "</style>\n",
       "<table border=\"1\" class=\"dataframe\">\n",
       "  <thead>\n",
       "    <tr style=\"text-align: right;\">\n",
       "      <th></th>\n",
       "      <th>id</th>\n",
       "      <th>f0</th>\n",
       "      <th>f1</th>\n",
       "      <th>f2</th>\n",
       "      <th>product</th>\n",
       "    </tr>\n",
       "  </thead>\n",
       "  <tbody>\n",
       "    <tr>\n",
       "      <th>91134</th>\n",
       "      <td>7LPpp</td>\n",
       "      <td>-2.654971</td>\n",
       "      <td>-1.362390</td>\n",
       "      <td>4.002011</td>\n",
       "      <td>110.992147</td>\n",
       "    </tr>\n",
       "    <tr>\n",
       "      <th>52271</th>\n",
       "      <td>yXCJc</td>\n",
       "      <td>0.886096</td>\n",
       "      <td>-1.654339</td>\n",
       "      <td>2.993357</td>\n",
       "      <td>80.859783</td>\n",
       "    </tr>\n",
       "    <tr>\n",
       "      <th>64558</th>\n",
       "      <td>m0gLV</td>\n",
       "      <td>-1.338727</td>\n",
       "      <td>-15.186125</td>\n",
       "      <td>3.004374</td>\n",
       "      <td>84.038886</td>\n",
       "    </tr>\n",
       "    <tr>\n",
       "      <th>57383</th>\n",
       "      <td>0PQSv</td>\n",
       "      <td>-5.686084</td>\n",
       "      <td>-11.280720</td>\n",
       "      <td>1.998386</td>\n",
       "      <td>57.085625</td>\n",
       "    </tr>\n",
       "    <tr>\n",
       "      <th>25369</th>\n",
       "      <td>2u1rS</td>\n",
       "      <td>-12.041228</td>\n",
       "      <td>-9.866543</td>\n",
       "      <td>0.004675</td>\n",
       "      <td>3.179103</td>\n",
       "    </tr>\n",
       "    <tr>\n",
       "      <th>78913</th>\n",
       "      <td>jDFk4</td>\n",
       "      <td>2.531898</td>\n",
       "      <td>-6.601638</td>\n",
       "      <td>-0.000304</td>\n",
       "      <td>0.000000</td>\n",
       "    </tr>\n",
       "    <tr>\n",
       "      <th>10571</th>\n",
       "      <td>rDjas</td>\n",
       "      <td>6.601805</td>\n",
       "      <td>-1.525469</td>\n",
       "      <td>1.998751</td>\n",
       "      <td>53.906522</td>\n",
       "    </tr>\n",
       "    <tr>\n",
       "      <th>17082</th>\n",
       "      <td>kXiFu</td>\n",
       "      <td>11.605640</td>\n",
       "      <td>-4.170471</td>\n",
       "      <td>4.002754</td>\n",
       "      <td>107.813044</td>\n",
       "    </tr>\n",
       "    <tr>\n",
       "      <th>24448</th>\n",
       "      <td>gGLsY</td>\n",
       "      <td>-16.900146</td>\n",
       "      <td>-4.833913</td>\n",
       "      <td>4.005566</td>\n",
       "      <td>110.992147</td>\n",
       "    </tr>\n",
       "    <tr>\n",
       "      <th>32549</th>\n",
       "      <td>53YaT</td>\n",
       "      <td>19.257673</td>\n",
       "      <td>11.571248</td>\n",
       "      <td>2.000487</td>\n",
       "      <td>53.906522</td>\n",
       "    </tr>\n",
       "  </tbody>\n",
       "</table>\n",
       "</div>"
      ],
      "text/plain": [
       "          id         f0         f1        f2     product\n",
       "91134  7LPpp  -2.654971  -1.362390  4.002011  110.992147\n",
       "52271  yXCJc   0.886096  -1.654339  2.993357   80.859783\n",
       "64558  m0gLV  -1.338727 -15.186125  3.004374   84.038886\n",
       "57383  0PQSv  -5.686084 -11.280720  1.998386   57.085625\n",
       "25369  2u1rS -12.041228  -9.866543  0.004675    3.179103\n",
       "78913  jDFk4   2.531898  -6.601638 -0.000304    0.000000\n",
       "10571  rDjas   6.601805  -1.525469  1.998751   53.906522\n",
       "17082  kXiFu  11.605640  -4.170471  4.002754  107.813044\n",
       "24448  gGLsY -16.900146  -4.833913  4.005566  110.992147\n",
       "32549  53YaT  19.257673  11.571248  2.000487   53.906522"
      ]
     },
     "execution_count": 10,
     "metadata": {},
     "output_type": "execute_result"
    }
   ],
   "source": [
    "region_2.sample(10)"
   ]
  },
  {
   "cell_type": "code",
   "execution_count": 11,
   "metadata": {},
   "outputs": [
    {
     "data": {
      "text/html": [
       "<div>\n",
       "<style scoped>\n",
       "    .dataframe tbody tr th:only-of-type {\n",
       "        vertical-align: middle;\n",
       "    }\n",
       "\n",
       "    .dataframe tbody tr th {\n",
       "        vertical-align: top;\n",
       "    }\n",
       "\n",
       "    .dataframe thead th {\n",
       "        text-align: right;\n",
       "    }\n",
       "</style>\n",
       "<table border=\"1\" class=\"dataframe\">\n",
       "  <thead>\n",
       "    <tr style=\"text-align: right;\">\n",
       "      <th></th>\n",
       "      <th>f0</th>\n",
       "      <th>f1</th>\n",
       "      <th>f2</th>\n",
       "      <th>product</th>\n",
       "    </tr>\n",
       "  </thead>\n",
       "  <tbody>\n",
       "    <tr>\n",
       "      <th>count</th>\n",
       "      <td>100000.000000</td>\n",
       "      <td>100000.000000</td>\n",
       "      <td>100000.000000</td>\n",
       "      <td>100000.000000</td>\n",
       "    </tr>\n",
       "    <tr>\n",
       "      <th>mean</th>\n",
       "      <td>1.141296</td>\n",
       "      <td>-4.796579</td>\n",
       "      <td>2.494541</td>\n",
       "      <td>68.825000</td>\n",
       "    </tr>\n",
       "    <tr>\n",
       "      <th>std</th>\n",
       "      <td>8.965932</td>\n",
       "      <td>5.119872</td>\n",
       "      <td>1.703572</td>\n",
       "      <td>45.944423</td>\n",
       "    </tr>\n",
       "    <tr>\n",
       "      <th>min</th>\n",
       "      <td>-31.609576</td>\n",
       "      <td>-26.358598</td>\n",
       "      <td>-0.018144</td>\n",
       "      <td>0.000000</td>\n",
       "    </tr>\n",
       "    <tr>\n",
       "      <th>25%</th>\n",
       "      <td>-6.298551</td>\n",
       "      <td>-8.267985</td>\n",
       "      <td>1.000021</td>\n",
       "      <td>26.953261</td>\n",
       "    </tr>\n",
       "    <tr>\n",
       "      <th>50%</th>\n",
       "      <td>1.153055</td>\n",
       "      <td>-4.813172</td>\n",
       "      <td>2.011479</td>\n",
       "      <td>57.085625</td>\n",
       "    </tr>\n",
       "    <tr>\n",
       "      <th>75%</th>\n",
       "      <td>8.621015</td>\n",
       "      <td>-1.332816</td>\n",
       "      <td>3.999904</td>\n",
       "      <td>107.813044</td>\n",
       "    </tr>\n",
       "    <tr>\n",
       "      <th>max</th>\n",
       "      <td>29.421755</td>\n",
       "      <td>18.734063</td>\n",
       "      <td>5.019721</td>\n",
       "      <td>137.945408</td>\n",
       "    </tr>\n",
       "  </tbody>\n",
       "</table>\n",
       "</div>"
      ],
      "text/plain": [
       "                  f0             f1             f2        product\n",
       "count  100000.000000  100000.000000  100000.000000  100000.000000\n",
       "mean        1.141296      -4.796579       2.494541      68.825000\n",
       "std         8.965932       5.119872       1.703572      45.944423\n",
       "min       -31.609576     -26.358598      -0.018144       0.000000\n",
       "25%        -6.298551      -8.267985       1.000021      26.953261\n",
       "50%         1.153055      -4.813172       2.011479      57.085625\n",
       "75%         8.621015      -1.332816       3.999904     107.813044\n",
       "max        29.421755      18.734063       5.019721     137.945408"
      ]
     },
     "execution_count": 11,
     "metadata": {},
     "output_type": "execute_result"
    }
   ],
   "source": [
    "region_2.describe()"
   ]
  },
  {
   "cell_type": "code",
   "execution_count": 12,
   "metadata": {},
   "outputs": [
    {
     "data": {
      "text/plain": [
       "id         0\n",
       "f0         0\n",
       "f1         0\n",
       "f2         0\n",
       "product    0\n",
       "dtype: int64"
      ]
     },
     "execution_count": 12,
     "metadata": {},
     "output_type": "execute_result"
    }
   ],
   "source": [
    "region_2.isna().sum()"
   ]
  },
  {
   "cell_type": "code",
   "execution_count": 13,
   "metadata": {},
   "outputs": [
    {
     "name": "stdout",
     "output_type": "stream",
     "text": [
      "0\n"
     ]
    }
   ],
   "source": [
    "print(region_2.duplicated().sum())"
   ]
  },
  {
   "cell_type": "code",
   "execution_count": 14,
   "metadata": {},
   "outputs": [
    {
     "data": {
      "text/plain": [
       "product\n",
       "53.906522     8472\n",
       "26.953261     8468\n",
       "84.038886     8431\n",
       "57.085625     8390\n",
       "3.179103      8337\n",
       "80.859783     8320\n",
       "30.132364     8306\n",
       "134.766305    8304\n",
       "110.992147    8303\n",
       "0.000000      8235\n",
       "137.945408    8233\n",
       "107.813044    8201\n",
       "Name: count, dtype: int64"
      ]
     },
     "execution_count": 14,
     "metadata": {},
     "output_type": "execute_result"
    }
   ],
   "source": [
    "region_2['product'].value_counts()"
   ]
  },
  {
   "cell_type": "markdown",
   "metadata": {},
   "source": [
    "Al igual que con la region 1 , en la region 2 encontramos valores en 0, hay que decidir como tratarlos. "
   ]
  },
  {
   "cell_type": "markdown",
   "metadata": {},
   "source": [
    "### Revisemos los datos de la Región 3"
   ]
  },
  {
   "cell_type": "code",
   "execution_count": 15,
   "metadata": {},
   "outputs": [
    {
     "name": "stdout",
     "output_type": "stream",
     "text": [
      "<class 'pandas.core.frame.DataFrame'>\n",
      "RangeIndex: 100000 entries, 0 to 99999\n",
      "Data columns (total 5 columns):\n",
      " #   Column   Non-Null Count   Dtype  \n",
      "---  ------   --------------   -----  \n",
      " 0   id       100000 non-null  object \n",
      " 1   f0       100000 non-null  float64\n",
      " 2   f1       100000 non-null  float64\n",
      " 3   f2       100000 non-null  float64\n",
      " 4   product  100000 non-null  float64\n",
      "dtypes: float64(4), object(1)\n",
      "memory usage: 3.8+ MB\n"
     ]
    }
   ],
   "source": [
    "region_3.info()"
   ]
  },
  {
   "cell_type": "code",
   "execution_count": 16,
   "metadata": {},
   "outputs": [
    {
     "data": {
      "text/html": [
       "<div>\n",
       "<style scoped>\n",
       "    .dataframe tbody tr th:only-of-type {\n",
       "        vertical-align: middle;\n",
       "    }\n",
       "\n",
       "    .dataframe tbody tr th {\n",
       "        vertical-align: top;\n",
       "    }\n",
       "\n",
       "    .dataframe thead th {\n",
       "        text-align: right;\n",
       "    }\n",
       "</style>\n",
       "<table border=\"1\" class=\"dataframe\">\n",
       "  <thead>\n",
       "    <tr style=\"text-align: right;\">\n",
       "      <th></th>\n",
       "      <th>id</th>\n",
       "      <th>f0</th>\n",
       "      <th>f1</th>\n",
       "      <th>f2</th>\n",
       "      <th>product</th>\n",
       "    </tr>\n",
       "  </thead>\n",
       "  <tbody>\n",
       "    <tr>\n",
       "      <th>66370</th>\n",
       "      <td>AeFlR</td>\n",
       "      <td>-5.033532</td>\n",
       "      <td>-1.848094</td>\n",
       "      <td>-5.267990</td>\n",
       "      <td>76.979577</td>\n",
       "    </tr>\n",
       "    <tr>\n",
       "      <th>16833</th>\n",
       "      <td>VfNFB</td>\n",
       "      <td>-0.000535</td>\n",
       "      <td>-1.243623</td>\n",
       "      <td>3.178987</td>\n",
       "      <td>115.119093</td>\n",
       "    </tr>\n",
       "    <tr>\n",
       "      <th>12533</th>\n",
       "      <td>YezDG</td>\n",
       "      <td>-0.202782</td>\n",
       "      <td>0.182960</td>\n",
       "      <td>4.262030</td>\n",
       "      <td>115.071730</td>\n",
       "    </tr>\n",
       "    <tr>\n",
       "      <th>30132</th>\n",
       "      <td>UThyn</td>\n",
       "      <td>-1.047243</td>\n",
       "      <td>1.224357</td>\n",
       "      <td>1.692742</td>\n",
       "      <td>134.440981</td>\n",
       "    </tr>\n",
       "    <tr>\n",
       "      <th>65158</th>\n",
       "      <td>6g6kG</td>\n",
       "      <td>-0.353515</td>\n",
       "      <td>0.646105</td>\n",
       "      <td>2.400701</td>\n",
       "      <td>31.270484</td>\n",
       "    </tr>\n",
       "    <tr>\n",
       "      <th>16697</th>\n",
       "      <td>Bh6Te</td>\n",
       "      <td>-0.321033</td>\n",
       "      <td>-0.146247</td>\n",
       "      <td>7.714463</td>\n",
       "      <td>157.913077</td>\n",
       "    </tr>\n",
       "    <tr>\n",
       "      <th>12351</th>\n",
       "      <td>SdsZb</td>\n",
       "      <td>0.161775</td>\n",
       "      <td>-2.892255</td>\n",
       "      <td>2.138900</td>\n",
       "      <td>102.745189</td>\n",
       "    </tr>\n",
       "    <tr>\n",
       "      <th>98518</th>\n",
       "      <td>pD6lA</td>\n",
       "      <td>-1.929630</td>\n",
       "      <td>2.522390</td>\n",
       "      <td>0.744850</td>\n",
       "      <td>79.240977</td>\n",
       "    </tr>\n",
       "    <tr>\n",
       "      <th>83652</th>\n",
       "      <td>6NFf3</td>\n",
       "      <td>1.410450</td>\n",
       "      <td>1.045912</td>\n",
       "      <td>-4.128800</td>\n",
       "      <td>34.571407</td>\n",
       "    </tr>\n",
       "    <tr>\n",
       "      <th>25129</th>\n",
       "      <td>HnAvz</td>\n",
       "      <td>0.000074</td>\n",
       "      <td>-1.695179</td>\n",
       "      <td>6.195546</td>\n",
       "      <td>140.592553</td>\n",
       "    </tr>\n",
       "  </tbody>\n",
       "</table>\n",
       "</div>"
      ],
      "text/plain": [
       "          id        f0        f1        f2     product\n",
       "66370  AeFlR -5.033532 -1.848094 -5.267990   76.979577\n",
       "16833  VfNFB -0.000535 -1.243623  3.178987  115.119093\n",
       "12533  YezDG -0.202782  0.182960  4.262030  115.071730\n",
       "30132  UThyn -1.047243  1.224357  1.692742  134.440981\n",
       "65158  6g6kG -0.353515  0.646105  2.400701   31.270484\n",
       "16697  Bh6Te -0.321033 -0.146247  7.714463  157.913077\n",
       "12351  SdsZb  0.161775 -2.892255  2.138900  102.745189\n",
       "98518  pD6lA -1.929630  2.522390  0.744850   79.240977\n",
       "83652  6NFf3  1.410450  1.045912 -4.128800   34.571407\n",
       "25129  HnAvz  0.000074 -1.695179  6.195546  140.592553"
      ]
     },
     "execution_count": 16,
     "metadata": {},
     "output_type": "execute_result"
    }
   ],
   "source": [
    "region_3.sample(10)"
   ]
  },
  {
   "cell_type": "code",
   "execution_count": 17,
   "metadata": {},
   "outputs": [
    {
     "data": {
      "text/html": [
       "<div>\n",
       "<style scoped>\n",
       "    .dataframe tbody tr th:only-of-type {\n",
       "        vertical-align: middle;\n",
       "    }\n",
       "\n",
       "    .dataframe tbody tr th {\n",
       "        vertical-align: top;\n",
       "    }\n",
       "\n",
       "    .dataframe thead th {\n",
       "        text-align: right;\n",
       "    }\n",
       "</style>\n",
       "<table border=\"1\" class=\"dataframe\">\n",
       "  <thead>\n",
       "    <tr style=\"text-align: right;\">\n",
       "      <th></th>\n",
       "      <th>f0</th>\n",
       "      <th>f1</th>\n",
       "      <th>f2</th>\n",
       "      <th>product</th>\n",
       "    </tr>\n",
       "  </thead>\n",
       "  <tbody>\n",
       "    <tr>\n",
       "      <th>count</th>\n",
       "      <td>100000.000000</td>\n",
       "      <td>100000.000000</td>\n",
       "      <td>100000.000000</td>\n",
       "      <td>100000.000000</td>\n",
       "    </tr>\n",
       "    <tr>\n",
       "      <th>mean</th>\n",
       "      <td>0.002023</td>\n",
       "      <td>-0.002081</td>\n",
       "      <td>2.495128</td>\n",
       "      <td>95.000000</td>\n",
       "    </tr>\n",
       "    <tr>\n",
       "      <th>std</th>\n",
       "      <td>1.732045</td>\n",
       "      <td>1.730417</td>\n",
       "      <td>3.473445</td>\n",
       "      <td>44.749921</td>\n",
       "    </tr>\n",
       "    <tr>\n",
       "      <th>min</th>\n",
       "      <td>-8.760004</td>\n",
       "      <td>-7.084020</td>\n",
       "      <td>-11.970335</td>\n",
       "      <td>0.000000</td>\n",
       "    </tr>\n",
       "    <tr>\n",
       "      <th>25%</th>\n",
       "      <td>-1.162288</td>\n",
       "      <td>-1.174820</td>\n",
       "      <td>0.130359</td>\n",
       "      <td>59.450441</td>\n",
       "    </tr>\n",
       "    <tr>\n",
       "      <th>50%</th>\n",
       "      <td>0.009424</td>\n",
       "      <td>-0.009482</td>\n",
       "      <td>2.484236</td>\n",
       "      <td>94.925613</td>\n",
       "    </tr>\n",
       "    <tr>\n",
       "      <th>75%</th>\n",
       "      <td>1.158535</td>\n",
       "      <td>1.163678</td>\n",
       "      <td>4.858794</td>\n",
       "      <td>130.595027</td>\n",
       "    </tr>\n",
       "    <tr>\n",
       "      <th>max</th>\n",
       "      <td>7.238262</td>\n",
       "      <td>7.844801</td>\n",
       "      <td>16.739402</td>\n",
       "      <td>190.029838</td>\n",
       "    </tr>\n",
       "  </tbody>\n",
       "</table>\n",
       "</div>"
      ],
      "text/plain": [
       "                  f0             f1             f2        product\n",
       "count  100000.000000  100000.000000  100000.000000  100000.000000\n",
       "mean        0.002023      -0.002081       2.495128      95.000000\n",
       "std         1.732045       1.730417       3.473445      44.749921\n",
       "min        -8.760004      -7.084020     -11.970335       0.000000\n",
       "25%        -1.162288      -1.174820       0.130359      59.450441\n",
       "50%         0.009424      -0.009482       2.484236      94.925613\n",
       "75%         1.158535       1.163678       4.858794     130.595027\n",
       "max         7.238262       7.844801      16.739402     190.029838"
      ]
     },
     "execution_count": 17,
     "metadata": {},
     "output_type": "execute_result"
    }
   ],
   "source": [
    "region_3.describe()"
   ]
  },
  {
   "cell_type": "code",
   "execution_count": 18,
   "metadata": {},
   "outputs": [
    {
     "name": "stdout",
     "output_type": "stream",
     "text": [
      "0\n"
     ]
    }
   ],
   "source": [
    "print(region_3.duplicated().sum())"
   ]
  },
  {
   "cell_type": "markdown",
   "metadata": {},
   "source": [
    "No parece haber problemas con los tipos de datos, ni valores ausentes. "
   ]
  },
  {
   "cell_type": "markdown",
   "metadata": {},
   "source": [
    "He decidido dejar los valores, ya que considero que si la producción es 0, es porque esa locación no tiene reservas. Como era el único dato a \"Corregir/Tratar\" no es necesario tratar los datos. "
   ]
  },
  {
   "cell_type": "markdown",
   "metadata": {},
   "source": [
    "# Estandarización de Datos"
   ]
  },
  {
   "cell_type": "code",
   "execution_count": 19,
   "metadata": {},
   "outputs": [
    {
     "data": {
      "text/html": [
       "<div>\n",
       "<style scoped>\n",
       "    .dataframe tbody tr th:only-of-type {\n",
       "        vertical-align: middle;\n",
       "    }\n",
       "\n",
       "    .dataframe tbody tr th {\n",
       "        vertical-align: top;\n",
       "    }\n",
       "\n",
       "    .dataframe thead th {\n",
       "        text-align: right;\n",
       "    }\n",
       "</style>\n",
       "<table border=\"1\" class=\"dataframe\">\n",
       "  <thead>\n",
       "    <tr style=\"text-align: right;\">\n",
       "      <th></th>\n",
       "      <th>f0</th>\n",
       "      <th>f1</th>\n",
       "      <th>f2</th>\n",
       "    </tr>\n",
       "  </thead>\n",
       "  <tbody>\n",
       "    <tr>\n",
       "      <th>38093</th>\n",
       "      <td>1.886679</td>\n",
       "      <td>0.087039</td>\n",
       "      <td>11.548653</td>\n",
       "    </tr>\n",
       "    <tr>\n",
       "      <th>36530</th>\n",
       "      <td>0.727991</td>\n",
       "      <td>0.658104</td>\n",
       "      <td>9.064734</td>\n",
       "    </tr>\n",
       "    <tr>\n",
       "      <th>68941</th>\n",
       "      <td>0.650056</td>\n",
       "      <td>-0.218161</td>\n",
       "      <td>7.631404</td>\n",
       "    </tr>\n",
       "    <tr>\n",
       "      <th>84175</th>\n",
       "      <td>1.016515</td>\n",
       "      <td>-0.556433</td>\n",
       "      <td>5.402391</td>\n",
       "    </tr>\n",
       "    <tr>\n",
       "      <th>734</th>\n",
       "      <td>-0.003764</td>\n",
       "      <td>0.321727</td>\n",
       "      <td>9.931987</td>\n",
       "    </tr>\n",
       "    <tr>\n",
       "      <th>54285</th>\n",
       "      <td>1.253304</td>\n",
       "      <td>-0.438348</td>\n",
       "      <td>3.839715</td>\n",
       "    </tr>\n",
       "    <tr>\n",
       "      <th>14627</th>\n",
       "      <td>0.356766</td>\n",
       "      <td>0.960911</td>\n",
       "      <td>4.795726</td>\n",
       "    </tr>\n",
       "    <tr>\n",
       "      <th>10974</th>\n",
       "      <td>0.874989</td>\n",
       "      <td>0.268456</td>\n",
       "      <td>1.481332</td>\n",
       "    </tr>\n",
       "    <tr>\n",
       "      <th>33667</th>\n",
       "      <td>0.139063</td>\n",
       "      <td>0.835493</td>\n",
       "      <td>5.585493</td>\n",
       "    </tr>\n",
       "    <tr>\n",
       "      <th>21031</th>\n",
       "      <td>0.693003</td>\n",
       "      <td>0.750846</td>\n",
       "      <td>-3.837128</td>\n",
       "    </tr>\n",
       "  </tbody>\n",
       "</table>\n",
       "</div>"
      ],
      "text/plain": [
       "             f0        f1         f2\n",
       "38093  1.886679  0.087039  11.548653\n",
       "36530  0.727991  0.658104   9.064734\n",
       "68941  0.650056 -0.218161   7.631404\n",
       "84175  1.016515 -0.556433   5.402391\n",
       "734   -0.003764  0.321727   9.931987\n",
       "54285  1.253304 -0.438348   3.839715\n",
       "14627  0.356766  0.960911   4.795726\n",
       "10974  0.874989  0.268456   1.481332\n",
       "33667  0.139063  0.835493   5.585493\n",
       "21031  0.693003  0.750846  -3.837128"
      ]
     },
     "execution_count": 19,
     "metadata": {},
     "output_type": "execute_result"
    }
   ],
   "source": [
    "#Creemos nuestros datos objetivo y nuestras caracteristicas \n",
    "reg1_features = region_1.drop(columns= ['product','id'])\n",
    "reg1_target = region_1['product']\n",
    "\n",
    "reg1_features.sample(10)"
   ]
  },
  {
   "cell_type": "code",
   "execution_count": 20,
   "metadata": {},
   "outputs": [
    {
     "name": "stdout",
     "output_type": "stream",
     "text": [
      "(75000, 3)\n",
      "(75000,)\n",
      "(25000, 3)\n",
      "(25000,)\n"
     ]
    }
   ],
   "source": [
    "#vamos a crear nuestros conjuntos de datos para entrenamiento y validación \n",
    "#Primer dividamos los datos para entrenamiento y validación \n",
    "reg1_features_train, reg1_features_valid,reg1_target_train,reg1_target_valid = train_test_split(reg1_features, reg1_target, random_state=123, test_size=0.25)\n",
    "\n",
    "\n",
    "print(reg1_features_train.shape)\n",
    "print(reg1_target_train.shape)\n",
    "print(reg1_features_valid.shape)\n",
    "print(reg1_target_valid.shape)\n"
   ]
  },
  {
   "cell_type": "code",
   "execution_count": 21,
   "metadata": {},
   "outputs": [],
   "source": [
    "#Guardamos las variables que vamos a estandarizar \n",
    "variables = ['f0','f1',\t'f2']\n",
    "#estandaricemos \n",
    "scaler = StandardScaler()\n",
    "scaler.fit(reg1_features_train[variables])\n",
    "\n",
    "reg1_features_train[variables] = scaler.transform(reg1_features_train[variables])\n",
    "reg1_features_valid[variables] = scaler.transform(reg1_features_valid[variables])"
   ]
  },
  {
   "cell_type": "code",
   "execution_count": 22,
   "metadata": {},
   "outputs": [
    {
     "name": "stdout",
     "output_type": "stream",
     "text": [
      "             f0        f1        f2\n",
      "42470 -1.683674 -0.280237 -0.242069\n",
      "37084 -1.140626  1.540147  0.204123\n",
      "45828 -1.511502  0.233503  0.086821\n",
      "44030  0.001511  1.013425 -0.395847\n",
      "65726  0.119535 -1.121580  1.706389\n",
      "10400 -0.451830 -0.316127 -1.084259\n",
      "30127 -0.466427  0.480372  2.487559\n",
      "88922  0.505267 -2.050355 -0.482524\n",
      "13670  1.733831 -0.546078  1.514040\n",
      "10652  0.364510  0.725119 -0.074132\n"
     ]
    }
   ],
   "source": [
    "print(reg1_features_train.sample(10))"
   ]
  },
  {
   "cell_type": "markdown",
   "metadata": {},
   "source": [
    "# Modelo de Regresión Linear "
   ]
  },
  {
   "cell_type": "code",
   "execution_count": 23,
   "metadata": {},
   "outputs": [
    {
     "name": "stdout",
     "output_type": "stream",
     "text": [
      "la raíz del error cuadratico medio es: 37.64786282376177\n",
      "El volumen medio de reservas predicho es: 92.54936189116306\n"
     ]
    }
   ],
   "source": [
    "#Creemos y probemos un modelo de regresión linear \n",
    "l_model = LinearRegression()\n",
    "l_model.fit(reg1_features_train, reg1_target_train)\n",
    "l_predict_valid = l_model.predict(reg1_features_valid)\n",
    "reg_1_r = pd.DataFrame(l_predict_valid, index=reg1_target_valid.index).merge(reg1_target_valid, left_index=True,right_index=True).rename(columns={0: 'prediction', 'product': 'real'})\n",
    "\n",
    "\n",
    "l_result = mean_squared_error(reg1_target_valid,l_predict_valid)**0.5\n",
    "\n",
    "print('la raíz del error cuadratico medio es:', l_result)\n",
    "print('El volumen medio de reservas predicho es:',l_predict_valid.mean())"
   ]
  },
  {
   "cell_type": "markdown",
   "metadata": {},
   "source": [
    "## Repitamos los pasos para los otros 2 datasets "
   ]
  },
  {
   "cell_type": "code",
   "execution_count": 24,
   "metadata": {},
   "outputs": [
    {
     "data": {
      "text/html": [
       "<div>\n",
       "<style scoped>\n",
       "    .dataframe tbody tr th:only-of-type {\n",
       "        vertical-align: middle;\n",
       "    }\n",
       "\n",
       "    .dataframe tbody tr th {\n",
       "        vertical-align: top;\n",
       "    }\n",
       "\n",
       "    .dataframe thead th {\n",
       "        text-align: right;\n",
       "    }\n",
       "</style>\n",
       "<table border=\"1\" class=\"dataframe\">\n",
       "  <thead>\n",
       "    <tr style=\"text-align: right;\">\n",
       "      <th></th>\n",
       "      <th>f0</th>\n",
       "      <th>f1</th>\n",
       "      <th>f2</th>\n",
       "    </tr>\n",
       "  </thead>\n",
       "  <tbody>\n",
       "    <tr>\n",
       "      <th>12934</th>\n",
       "      <td>0.062415</td>\n",
       "      <td>-11.484615</td>\n",
       "      <td>1.994975</td>\n",
       "    </tr>\n",
       "    <tr>\n",
       "      <th>66753</th>\n",
       "      <td>5.816321</td>\n",
       "      <td>-6.085517</td>\n",
       "      <td>2.998399</td>\n",
       "    </tr>\n",
       "    <tr>\n",
       "      <th>92546</th>\n",
       "      <td>9.313469</td>\n",
       "      <td>-1.428464</td>\n",
       "      <td>4.999415</td>\n",
       "    </tr>\n",
       "    <tr>\n",
       "      <th>52865</th>\n",
       "      <td>-1.377464</td>\n",
       "      <td>-6.157883</td>\n",
       "      <td>5.005881</td>\n",
       "    </tr>\n",
       "    <tr>\n",
       "      <th>70618</th>\n",
       "      <td>16.517162</td>\n",
       "      <td>-2.222795</td>\n",
       "      <td>3.002782</td>\n",
       "    </tr>\n",
       "    <tr>\n",
       "      <th>93905</th>\n",
       "      <td>8.068190</td>\n",
       "      <td>-1.236917</td>\n",
       "      <td>2.003193</td>\n",
       "    </tr>\n",
       "    <tr>\n",
       "      <th>38447</th>\n",
       "      <td>-11.609816</td>\n",
       "      <td>-8.280135</td>\n",
       "      <td>0.995571</td>\n",
       "    </tr>\n",
       "    <tr>\n",
       "      <th>71436</th>\n",
       "      <td>5.000105</td>\n",
       "      <td>-8.392092</td>\n",
       "      <td>-0.011946</td>\n",
       "    </tr>\n",
       "    <tr>\n",
       "      <th>98532</th>\n",
       "      <td>-7.119202</td>\n",
       "      <td>-5.879931</td>\n",
       "      <td>3.002388</td>\n",
       "    </tr>\n",
       "    <tr>\n",
       "      <th>36540</th>\n",
       "      <td>4.618993</td>\n",
       "      <td>-4.433093</td>\n",
       "      <td>4.005027</td>\n",
       "    </tr>\n",
       "  </tbody>\n",
       "</table>\n",
       "</div>"
      ],
      "text/plain": [
       "              f0         f1        f2\n",
       "12934   0.062415 -11.484615  1.994975\n",
       "66753   5.816321  -6.085517  2.998399\n",
       "92546   9.313469  -1.428464  4.999415\n",
       "52865  -1.377464  -6.157883  5.005881\n",
       "70618  16.517162  -2.222795  3.002782\n",
       "93905   8.068190  -1.236917  2.003193\n",
       "38447 -11.609816  -8.280135  0.995571\n",
       "71436   5.000105  -8.392092 -0.011946\n",
       "98532  -7.119202  -5.879931  3.002388\n",
       "36540   4.618993  -4.433093  4.005027"
      ]
     },
     "execution_count": 24,
     "metadata": {},
     "output_type": "execute_result"
    }
   ],
   "source": [
    "#Creemos nuestros datos objetivo y nuestras caracteristicas para Region 2 \n",
    "reg2_features = region_2.drop(columns= ['product','id'])\n",
    "reg2_target = region_2['product']\n",
    "\n",
    "reg2_features.sample(10)"
   ]
  },
  {
   "cell_type": "code",
   "execution_count": 25,
   "metadata": {},
   "outputs": [
    {
     "data": {
      "text/html": [
       "<div>\n",
       "<style scoped>\n",
       "    .dataframe tbody tr th:only-of-type {\n",
       "        vertical-align: middle;\n",
       "    }\n",
       "\n",
       "    .dataframe tbody tr th {\n",
       "        vertical-align: top;\n",
       "    }\n",
       "\n",
       "    .dataframe thead th {\n",
       "        text-align: right;\n",
       "    }\n",
       "</style>\n",
       "<table border=\"1\" class=\"dataframe\">\n",
       "  <thead>\n",
       "    <tr style=\"text-align: right;\">\n",
       "      <th></th>\n",
       "      <th>f0</th>\n",
       "      <th>f1</th>\n",
       "      <th>f2</th>\n",
       "    </tr>\n",
       "  </thead>\n",
       "  <tbody>\n",
       "    <tr>\n",
       "      <th>45538</th>\n",
       "      <td>-0.791864</td>\n",
       "      <td>0.305981</td>\n",
       "      <td>1.243651</td>\n",
       "    </tr>\n",
       "    <tr>\n",
       "      <th>51785</th>\n",
       "      <td>-0.639772</td>\n",
       "      <td>-1.974308</td>\n",
       "      <td>6.588229</td>\n",
       "    </tr>\n",
       "    <tr>\n",
       "      <th>33530</th>\n",
       "      <td>-2.179240</td>\n",
       "      <td>-0.447155</td>\n",
       "      <td>3.264598</td>\n",
       "    </tr>\n",
       "    <tr>\n",
       "      <th>70855</th>\n",
       "      <td>0.340734</td>\n",
       "      <td>-0.423762</td>\n",
       "      <td>3.417561</td>\n",
       "    </tr>\n",
       "    <tr>\n",
       "      <th>8093</th>\n",
       "      <td>-2.505198</td>\n",
       "      <td>0.355004</td>\n",
       "      <td>1.262566</td>\n",
       "    </tr>\n",
       "    <tr>\n",
       "      <th>2955</th>\n",
       "      <td>-1.320306</td>\n",
       "      <td>-1.475624</td>\n",
       "      <td>-2.431693</td>\n",
       "    </tr>\n",
       "    <tr>\n",
       "      <th>36406</th>\n",
       "      <td>-1.142694</td>\n",
       "      <td>0.371070</td>\n",
       "      <td>3.111589</td>\n",
       "    </tr>\n",
       "    <tr>\n",
       "      <th>33589</th>\n",
       "      <td>2.947440</td>\n",
       "      <td>1.428658</td>\n",
       "      <td>1.690366</td>\n",
       "    </tr>\n",
       "    <tr>\n",
       "      <th>41505</th>\n",
       "      <td>1.545320</td>\n",
       "      <td>2.484063</td>\n",
       "      <td>5.211044</td>\n",
       "    </tr>\n",
       "    <tr>\n",
       "      <th>47318</th>\n",
       "      <td>0.312354</td>\n",
       "      <td>-0.307601</td>\n",
       "      <td>3.090294</td>\n",
       "    </tr>\n",
       "  </tbody>\n",
       "</table>\n",
       "</div>"
      ],
      "text/plain": [
       "             f0        f1        f2\n",
       "45538 -0.791864  0.305981  1.243651\n",
       "51785 -0.639772 -1.974308  6.588229\n",
       "33530 -2.179240 -0.447155  3.264598\n",
       "70855  0.340734 -0.423762  3.417561\n",
       "8093  -2.505198  0.355004  1.262566\n",
       "2955  -1.320306 -1.475624 -2.431693\n",
       "36406 -1.142694  0.371070  3.111589\n",
       "33589  2.947440  1.428658  1.690366\n",
       "41505  1.545320  2.484063  5.211044\n",
       "47318  0.312354 -0.307601  3.090294"
      ]
     },
     "execution_count": 25,
     "metadata": {},
     "output_type": "execute_result"
    }
   ],
   "source": [
    "#Creemos nuestros datos objetivo y nuestras caracteristicas para Region 3 \n",
    "reg3_features = region_3.drop(columns= ['product','id'])\n",
    "reg3_target = region_3['product']\n",
    "\n",
    "reg3_features.sample(10)"
   ]
  },
  {
   "cell_type": "code",
   "execution_count": 26,
   "metadata": {},
   "outputs": [],
   "source": [
    "#Creemos nuestra función para calcular todo los valores para los 2 datasets restantes \n",
    "def model_review(features, target):\n",
    "    reg_features_train, reg_features_valid,reg_target_train,reg_target_valid = train_test_split(features, target, random_state=123, test_size=0.25)\n",
    "    variable = ['f0','f1',\t'f2']\n",
    "    \n",
    "    scaler = StandardScaler()\n",
    "    scaler.fit(reg_features_train[variable])\n",
    "\n",
    "    reg_features_train[variable] = scaler.transform(reg_features_train[variable])\n",
    "    reg_features_valid[variable] = scaler.transform(reg_features_valid[variable])\n",
    "    \n",
    "    n_model = LinearRegression()\n",
    "    n_model.fit(reg_features_train, reg_target_train)\n",
    "    n_predict_valid = n_model.predict(reg_features_valid)\n",
    "    pred_real_reg = pd.DataFrame(n_predict_valid, index=reg_features_valid.index).merge(reg_target_valid, left_index=True,right_index=True).rename(columns={0: 'prediction', 'product': 'real'})\n",
    "\n",
    "    n_result = mean_squared_error(reg_target_valid,n_predict_valid)**0.5\n",
    "    \n",
    "    return pred_real_reg, n_result, n_predict_valid.mean(), reg_target_valid, reg_features_valid\n",
    "    "
   ]
  },
  {
   "cell_type": "markdown",
   "metadata": {},
   "source": [
    "la formula divide los valores en entrenamiento y validación, despues estandariza y procede a realizar el modelo, entrenamiento y predicciones. por último devuelve  los valores predicho, el RECM y el valor promedio de las predicciones. "
   ]
  },
  {
   "cell_type": "markdown",
   "metadata": {},
   "source": [
    "#### Corramos la formula para los datasets pendientes "
   ]
  },
  {
   "cell_type": "code",
   "execution_count": 27,
   "metadata": {},
   "outputs": [
    {
     "name": "stdout",
     "output_type": "stream",
     "text": [
      "El RECM es : 0.8954139804944308\n",
      "El volumen medio de reservas predicho es: 69.28001860653976\n"
     ]
    }
   ],
   "source": [
    "reg_2_r, reg_2_result, reg_2_pred_mean, reg_2_target_valid , reg2_features_valid = model_review(reg2_features,reg2_target)\n",
    "\n",
    "print('El RECM es :', reg_2_result)\n",
    "print('El volumen medio de reservas predicho es:',reg_2_pred_mean.mean())"
   ]
  },
  {
   "cell_type": "code",
   "execution_count": 28,
   "metadata": {},
   "outputs": [
    {
     "name": "stdout",
     "output_type": "stream",
     "text": [
      "El RECM es : 40.12803006598514\n",
      "El volumen medio de reservas predicho es: 95.09859933591373\n"
     ]
    }
   ],
   "source": [
    "reg_3_r, reg_3_result, reg_3_pred_mean, reg_3_target_valid, reg3_features_valid = model_review(reg3_features,reg3_target)\n",
    "\n",
    "print('El RECM es :', reg_3_result)\n",
    "print('El volumen medio de reservas predicho es:',reg_3_pred_mean.mean())"
   ]
  },
  {
   "cell_type": "markdown",
   "metadata": {},
   "source": [
    "El mejor RECM lo encontramos en el modelo para la región 1... es para que mejor estamos prediciendo pero no necesariamente quiere decir que sea el mejor. vamos a explorar más "
   ]
  },
  {
   "cell_type": "markdown",
   "metadata": {},
   "source": [
    "# Cálculo de ganancias"
   ]
  },
  {
   "cell_type": "markdown",
   "metadata": {},
   "source": [
    "#### Preparemos nuestros datos y variables "
   ]
  },
  {
   "cell_type": "code",
   "execution_count": 29,
   "metadata": {},
   "outputs": [],
   "source": [
    "#Guardemos nuestros datos conocidos \n",
    "inversion_inicial = 100000000 \n",
    "cantidad_pozos = 200 \n",
    "precio_por_barril = 4.5 \n",
    "mil_barril = 4500 \n",
    "\n",
    "#Calculemos el costo por pozo esperado, teniendo en cuanta que se requieren 200 pozos \n",
    "costo_por_pozo= inversion_inicial/ cantidad_pozos\n",
    "#calculemos la cantidad de barriles minimos necesarios (en miles)\n",
    "min_barril_need = costo_por_pozo / mil_barril\n"
   ]
  },
  {
   "cell_type": "markdown",
   "metadata": {},
   "source": [
    "### Calculemos las ganancias generadas por pozo "
   ]
  },
  {
   "cell_type": "code",
   "execution_count": 30,
   "metadata": {},
   "outputs": [],
   "source": [
    "#Hagamos una formula para calcular la ganancia, los ingresos totales, los ingresos promedios \n",
    "def ganancia(viable_reg):\n",
    "    profit_reg = viable_reg.sort_values(by='prediction',ascending=False)\n",
    "    reg_200 = profit_reg['real'][:200]\n",
    "    tot_ingreso= (reg_200* 4500).sum()\n",
    "    prod_tot = reg_200.sum()\n",
    "    reg_mean = reg_200.mean()\n",
    "    \n",
    "    return reg_200, tot_ingreso, prod_tot, reg_mean, profit_reg"
   ]
  },
  {
   "cell_type": "markdown",
   "metadata": {},
   "source": [
    "Creé una forumla que crea primero un series de mis predicciones y los ordena en forma descendente, despues crea un dataframe con la columna product y conserva solo los primeros 200 valores. Posteriormente guarda los calculos que necesitamos. "
   ]
  },
  {
   "cell_type": "code",
   "execution_count": 31,
   "metadata": {},
   "outputs": [],
   "source": [
    "#Corramos nuestra nueva formula y obtengamos nuestros valores\n",
    "\n",
    "ind_ingreso_region_1, tot_ingreso_region_1, production_tot_region1 , production_reg1_mean, predict_totales1 = ganancia(reg_1_r)\n",
    "\n",
    "ind_ingreso_region_2, tot_ingreso_region_2,production_tot_region2, production_reg2_mean, predict_totales2 = ganancia(reg_2_r)\n",
    "\n",
    "ind_ingreso_region_3, tot_ingreso_region_3, production_tot_region3, production_reg3_mean,predict_totales3 = ganancia(reg_3_r)\n",
    "\n",
    "#Finalmente calculemos nuestra ganancia por región\n",
    "Ganancia_reg_1 =  tot_ingreso_region_1 - inversion_inicial\n",
    "Ganancia_reg_2 =  tot_ingreso_region_2 - inversion_inicial\n",
    "Ganancia_reg_3 =  tot_ingreso_region_3 - inversion_inicial"
   ]
  },
  {
   "cell_type": "code",
   "execution_count": 32,
   "metadata": {},
   "outputs": [
    {
     "data": {
      "text/html": [
       "<div>\n",
       "<style scoped>\n",
       "    .dataframe tbody tr th:only-of-type {\n",
       "        vertical-align: middle;\n",
       "    }\n",
       "\n",
       "    .dataframe tbody tr th {\n",
       "        vertical-align: top;\n",
       "    }\n",
       "\n",
       "    .dataframe thead th {\n",
       "        text-align: right;\n",
       "    }\n",
       "</style>\n",
       "<table border=\"1\" class=\"dataframe\">\n",
       "  <thead>\n",
       "    <tr style=\"text-align: right;\">\n",
       "      <th></th>\n",
       "      <th>Tipo</th>\n",
       "      <th>Region_0</th>\n",
       "      <th>Region_1</th>\n",
       "      <th>Region_2</th>\n",
       "    </tr>\n",
       "  </thead>\n",
       "  <tbody>\n",
       "    <tr>\n",
       "      <th>0</th>\n",
       "      <td>Total Volume</td>\n",
       "      <td>30077.05</td>\n",
       "      <td>27589.08</td>\n",
       "      <td>27489.65</td>\n",
       "    </tr>\n",
       "    <tr>\n",
       "      <th>1</th>\n",
       "      <td>Volumen promedio</td>\n",
       "      <td>150.39</td>\n",
       "      <td>137.95</td>\n",
       "      <td>137.45</td>\n",
       "    </tr>\n",
       "  </tbody>\n",
       "</table>\n",
       "</div>"
      ],
      "text/plain": [
       "               Tipo  Region_0  Region_1  Region_2\n",
       "0      Total Volume  30077.05  27589.08  27489.65\n",
       "1  Volumen promedio    150.39    137.95    137.45"
      ]
     },
     "execution_count": 32,
     "metadata": {},
     "output_type": "execute_result"
    }
   ],
   "source": [
    "#Veamos cual es nuestra producción por región\n",
    "pd.options.display.float_format = '{:.2f}'.format \n",
    "display_volumen = pd.DataFrame({'Tipo': ['Total Volume', 'Volumen promedio'],'Region_0' : [production_tot_region1, production_reg1_mean],'Region_1' : [production_tot_region2,production_reg2_mean], 'Region_2' : [production_tot_region3,production_reg3_mean]})\n",
    "display_volumen"
   ]
  },
  {
   "cell_type": "markdown",
   "metadata": {},
   "source": [
    "Creamos un dataframe con los valores de volumen total y volumen promedio para todas las regiones y mostramos los resultados para una mejor visualización. "
   ]
  },
  {
   "cell_type": "code",
   "execution_count": 33,
   "metadata": {},
   "outputs": [
    {
     "data": {
      "text/html": [
       "<div>\n",
       "<style scoped>\n",
       "    .dataframe tbody tr th:only-of-type {\n",
       "        vertical-align: middle;\n",
       "    }\n",
       "\n",
       "    .dataframe tbody tr th {\n",
       "        vertical-align: top;\n",
       "    }\n",
       "\n",
       "    .dataframe thead th {\n",
       "        text-align: right;\n",
       "    }\n",
       "</style>\n",
       "<table border=\"1\" class=\"dataframe\">\n",
       "  <thead>\n",
       "    <tr style=\"text-align: right;\">\n",
       "      <th></th>\n",
       "      <th>Nombre</th>\n",
       "      <th>Region_0</th>\n",
       "      <th>Region_1</th>\n",
       "      <th>Region_2</th>\n",
       "    </tr>\n",
       "  </thead>\n",
       "  <tbody>\n",
       "    <tr>\n",
       "      <th>0</th>\n",
       "      <td>Ingresos proyectados</td>\n",
       "      <td>135346709.17</td>\n",
       "      <td>124150866.97</td>\n",
       "      <td>123703438.63</td>\n",
       "    </tr>\n",
       "    <tr>\n",
       "      <th>1</th>\n",
       "      <td>Inversion inicial</td>\n",
       "      <td>100000000.00</td>\n",
       "      <td>100000000.00</td>\n",
       "      <td>100000000.00</td>\n",
       "    </tr>\n",
       "    <tr>\n",
       "      <th>2</th>\n",
       "      <td>Ganancia proyectada</td>\n",
       "      <td>35346709.17</td>\n",
       "      <td>24150866.97</td>\n",
       "      <td>23703438.63</td>\n",
       "    </tr>\n",
       "  </tbody>\n",
       "</table>\n",
       "</div>"
      ],
      "text/plain": [
       "                 Nombre     Region_0     Region_1     Region_2\n",
       "0  Ingresos proyectados 135346709.17 124150866.97 123703438.63\n",
       "1     Inversion inicial 100000000.00 100000000.00 100000000.00\n",
       "2   Ganancia proyectada  35346709.17  24150866.97  23703438.63"
      ]
     },
     "execution_count": 33,
     "metadata": {},
     "output_type": "execute_result"
    }
   ],
   "source": [
    "ganacia_display = pd.DataFrame({'Nombre':['Ingresos proyectados', 'Inversion inicial', 'Ganancia proyectada'], 'Region_0': [tot_ingreso_region_1, inversion_inicial,Ganancia_reg_1] ,'Region_1': [tot_ingreso_region_2, inversion_inicial,Ganancia_reg_2], 'Region_2':[tot_ingreso_region_3, inversion_inicial, Ganancia_reg_3]})\n",
    "ganacia_display"
   ]
  },
  {
   "cell_type": "markdown",
   "metadata": {},
   "source": [
    "A simple vista la región 0 parece que es la más prometedora. con una ganacia estimada de 39656545.12 y una reserva de barriles de 31034 mil barriles. Pero no solo nos podemos basar en esta información y lo que tenemos.... hay que indagar más. Ahora calculemos el riesgo y comprobemos si es así. "
   ]
  },
  {
   "cell_type": "markdown",
   "metadata": {},
   "source": [
    "# Cálculo de riesgo "
   ]
  },
  {
   "cell_type": "markdown",
   "metadata": {},
   "source": [
    "Comencemos con el bootstraping "
   ]
  },
  {
   "cell_type": "code",
   "execution_count": 34,
   "metadata": {},
   "outputs": [],
   "source": [
    "#creamos un función para hacer un bootstraping y crear muestras aleatorias  \n",
    "def boot (data, cant, sample_n, points):\n",
    "    state = np.random.RandomState(123)\n",
    "    \n",
    "    values = []\n",
    "\n",
    "    for i in range(sample_n): \n",
    "        prob_subsample = data.sample(n=points, replace=True, random_state=state).sort_values(by='prediction' ,ascending= False)\n",
    "        targ_subsample = prob_subsample['real'].head(cant).sum()\n",
    "        \n",
    "        values.append((targ_subsample * 4500) - 100_000_000)\n",
    "        \n",
    "    return values"
   ]
  },
  {
   "cell_type": "code",
   "execution_count": 35,
   "metadata": {},
   "outputs": [],
   "source": [
    "values_bot_reg_1 = boot(reg_1_r ,200, 1000, 500) \n",
    "values_bot_reg_2 = boot(reg_2_r ,200, 1000, 500)\n",
    "values_bot_reg_3 = boot(reg_3_r ,200, 1000, 500)"
   ]
  },
  {
   "cell_type": "markdown",
   "metadata": {},
   "source": [
    "Ahora que ya tenemos nuestros valores con bootstrapping , vamos a sacar nuestros valores de estadística que nos pide el proyecto. "
   ]
  },
  {
   "cell_type": "code",
   "execution_count": 36,
   "metadata": {},
   "outputs": [],
   "source": [
    "#Primero creamos nuestra función para calcular riesgo de perdidas, intervalo de confianza y beneficio promedio \n",
    "def estadisticas(values_reg): \n",
    "    reg_ser = pd.Series(values_reg)\n",
    "    reg_95 = reg_ser.quantile(0.95)\n",
    "    reg_05 = reg_ser.quantile(0.05)\n",
    "    mean_reg = reg_ser.sum() / 1000\n",
    "    neg_rev = 0\n",
    "\n",
    "    for i in values_reg:\n",
    "        if i < 0:\n",
    "            neg_rev += 1\n",
    "    loss_rate = neg_rev / 1000 * 100\n",
    "\n",
    "    return reg_05 ,reg_95 , loss_rate , mean_reg, reg_ser"
   ]
  },
  {
   "cell_type": "code",
   "execution_count": 37,
   "metadata": {},
   "outputs": [],
   "source": [
    "inter_05_reg1, inter_95_reg1,tasa_perd_reg1, benef_prom_reg1, data_reg_1 = estadisticas(values_bot_reg_1)\n",
    "inter_05_reg2, inter_95_reg2,tasa_perd_reg2, benef_prom_reg2, data_reg_2 = estadisticas(values_bot_reg_2)\n",
    "inter_05_reg3, inter_95_reg3,tasa_perd_reg3, benef_prom_reg3, data_reg_3  = estadisticas(values_bot_reg_3)"
   ]
  },
  {
   "cell_type": "markdown",
   "metadata": {},
   "source": [
    "Ya tenemos todos nuestros valores, queda analizar"
   ]
  },
  {
   "cell_type": "markdown",
   "metadata": {},
   "source": [
    "Observemos la distribución de nuestros valores "
   ]
  },
  {
   "cell_type": "code",
   "execution_count": 38,
   "metadata": {},
   "outputs": [
    {
     "data": {
      "text/plain": [
       "<Axes: ylabel='Frequency'>"
      ]
     },
     "execution_count": 38,
     "metadata": {},
     "output_type": "execute_result"
    },
    {
     "data": {
      "image/png": "[encoded data removed]",
      "text/plain": [
       "<Figure size 640x480 with 1 Axes>"
      ]
     },
     "metadata": {},
     "output_type": "display_data"
    }
   ],
   "source": [
    "data_reg_1.plot(kind='hist')"
   ]
  },
  {
   "cell_type": "code",
   "execution_count": 39,
   "metadata": {},
   "outputs": [
    {
     "data": {
      "text/plain": [
       "<Axes: ylabel='Frequency'>"
      ]
     },
     "execution_count": 39,
     "metadata": {},
     "output_type": "execute_result"
    },
    {
     "data": {
      "image/png": "[encoded data removed]",
      "text/plain": [
       "<Figure size 640x480 with 1 Axes>"
      ]
     },
     "metadata": {},
     "output_type": "display_data"
    }
   ],
   "source": [
    "data_reg_2.plot(kind='hist')"
   ]
  },
  {
   "cell_type": "code",
   "execution_count": 40,
   "metadata": {},
   "outputs": [
    {
     "data": {
      "text/plain": [
       "<Axes: ylabel='Frequency'>"
      ]
     },
     "execution_count": 40,
     "metadata": {},
     "output_type": "execute_result"
    },
    {
     "data": {
      "image/png": "[encoded data removed]",
      "text/plain": [
       "<Figure size 640x480 with 1 Axes>"
      ]
     },
     "metadata": {},
     "output_type": "display_data"
    }
   ],
   "source": [
    "data_reg_3.plot(kind='hist')"
   ]
  },
  {
   "cell_type": "code",
   "execution_count": 41,
   "metadata": {},
   "outputs": [
    {
     "name": "stdout",
     "output_type": "stream",
     "text": [
      "REGION 0\n",
      "Intervalo de confianza entre 323870.7404492938 y 9080052.892473852. Beneficio promedio es de 4774168.242664123 y la tasa de perdida es de 4.1000000000000005\n",
      "REGION 1\n",
      "Intervalo de confianza entre 1258062.8764825696 y 8030287.410072967. Beneficio promedio es de 4791901.613003319 y la tasa de perdida es de 0.8999999999999999\n",
      "REGION 2\n",
      "Intervalo de confianza entre -1062681.7434007681 y 7972601.450243218. Beneficio promedio es de 3434543.7658087574 y la tasa de perdida es de 9.9\n"
     ]
    }
   ],
   "source": [
    "print('REGION 0')\n",
    "print(f'Intervalo de confianza entre {inter_05_reg1} y {inter_95_reg1}. Beneficio promedio es de {benef_prom_reg1} y la tasa de perdida es de {tasa_perd_reg1}')\n",
    "print('REGION 1')\n",
    "print(f'Intervalo de confianza entre {inter_05_reg2} y {inter_95_reg2}. Beneficio promedio es de {benef_prom_reg2} y la tasa de perdida es de {tasa_perd_reg2}')\n",
    "print('REGION 2')\n",
    "print(f'Intervalo de confianza entre {inter_05_reg3} y {inter_95_reg3}. Beneficio promedio es de {benef_prom_reg3} y la tasa de perdida es de {tasa_perd_reg3}')"
   ]
  },
  {
   "cell_type": "markdown",
   "metadata": {},
   "source": [
    "# Conclusiones \n"
   ]
  },
  {
   "cell_type": "markdown",
   "metadata": {},
   "source": [
    "A primer vista y casi durante todo el proceso, la región 0 aparenta ser la mejor opción para invertir con una mayor cantidad de barriles y una ganancia estimada por encima de las otras 2 regiones. Sin embargo, durante el modelaje nos damos cuenta que el modelo que mejor predice es el modelo para la región 1 con un RECM de 0.8 lo cual es un buen indicador.\n",
    "Después de analizar los resultados del bootstrapping y obtener diferentes metricas podemos ver que la cosa cambia... La región 1 es que mejor proyecta, con un beneficio promedio de  4791901.613003319 y una tasa de pérdida de 0.89 % . Lo que demuestra que no solamente es el mejor si no el único que cumple con el requisito de no más de 2.5% para la tasa de perdida. \n",
    "\n",
    "Despues de este analisis podemos concluir que la mejor opción de inversión es la región 1."
   ]
  }
 ],
 "metadata": {
  "kernelspec": {
   "display_name": "Python 3",
   "language": "python",
   "name": "python3"
  },
  "language_info": {
   "codemirror_mode": {
    "name": "ipython",
    "version": 3
   },
   "file_extension": ".py",
   "mimetype": "text/x-python",
   "name": "python",
   "nbconvert_exporter": "python",
   "pygments_lexer": "ipython3",
   "version": "3.13.1"
  }
 },
 "nbformat": 4,
 "nbformat_minor": 2
}
